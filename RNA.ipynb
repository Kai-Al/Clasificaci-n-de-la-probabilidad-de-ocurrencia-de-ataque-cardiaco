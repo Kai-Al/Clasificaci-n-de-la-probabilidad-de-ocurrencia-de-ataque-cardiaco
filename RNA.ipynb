{
  "nbformat": 4,
  "nbformat_minor": 0,
  "metadata": {
    "colab": {
      "provenance": [],
      "toc_visible": true,
      "authorship_tag": "ABX9TyOd2bAccU2+NNjSgN/zVjmm",
      "include_colab_link": true
    },
    "kernelspec": {
      "name": "python3",
      "display_name": "Python 3"
    },
    "language_info": {
      "name": "python"
    }
  },
  "cells": [
    {
      "cell_type": "markdown",
      "metadata": {
        "id": "view-in-github",
        "colab_type": "text"
      },
      "source": [
        "<a href=\"https://colab.research.google.com/github/SantiagoTangarife/Clasificaci-n-de-la-probabilidad-de-ocurrencia-de-ataque-cardiaco/blob/main/RNA.ipynb\" target=\"_parent\"><img src=\"https://colab.research.google.com/assets/colab-badge.svg\" alt=\"Open In Colab\"/></a>"
      ]
    },
    {
      "cell_type": "code",
      "execution_count": 16,
      "metadata": {
        "id": "k2cTxtmRIykp"
      },
      "outputs": [],
      "source": [
        "import numpy as np\n",
        "import pandas as pd\n"
      ]
    },
    {
      "cell_type": "code",
      "source": [
        "from google.colab import drive\n",
        "drive.mount('/content/drive')"
      ],
      "metadata": {
        "colab": {
          "base_uri": "https://localhost:8080/"
        },
        "id": "PEJFKYRVI2Ns",
        "outputId": "a9416df0-6207-4dce-f9e0-edfcc13fc4d2"
      },
      "execution_count": 17,
      "outputs": [
        {
          "output_type": "stream",
          "name": "stdout",
          "text": [
            "Drive already mounted at /content/drive; to attempt to forcibly remount, call drive.mount(\"/content/drive\", force_remount=True).\n"
          ]
        }
      ]
    },
    {
      "cell_type": "code",
      "source": [
        "df = pd.read_csv(\"/content/drive/MyDrive/Colab Notebooks/heart.csv\")\n",
        "data = df.copy()"
      ],
      "metadata": {
        "id": "N3Ym1YjxLReB"
      },
      "execution_count": 18,
      "outputs": []
    },
    {
      "cell_type": "code",
      "source": [
        "data\n",
        "df_copy = data.sample(frac=0.9, random_state=1)\n",
        "data10 = data.drop(df_copy.index)"
      ],
      "metadata": {
        "id": "16KPHqAZI88D"
      },
      "execution_count": 19,
      "outputs": []
    },
    {
      "cell_type": "code",
      "source": [
        "import tensorflow as tf\n",
        "from tensorflow import keras\n",
        "import pandas as pd\n",
        "import matplotlib.pyplot as plt\n",
        "\n",
        "\n",
        "# Separa las características, en y es la salida, y en X todas menos output\n",
        "y = df_copy['output']\n",
        "X = df_copy.drop(columns=['output'])\n",
        "\n"
      ],
      "metadata": {
        "id": "Ca4vmRjoPTJ6"
      },
      "execution_count": 44,
      "outputs": []
    },
    {
      "cell_type": "code",
      "source": [
        "data10.sample(n=1, random_state=1)"
      ],
      "metadata": {
        "id": "konRMxABb0Am"
      },
      "execution_count": null,
      "outputs": []
    },
    {
      "cell_type": "code",
      "source": [
        "from tensorflow.python.ops.logging_ops import Print\n",
        "from keras.src.optimizers import optimizer\n",
        "\n",
        "\n",
        "# Modelo de la red neuronal\n",
        "#una capa con 13 entradas, 26 neuronas en una capa interna\n",
        "model = keras.Sequential([\n",
        "    keras.layers.Dense(units=26, input_shape=[13])\n",
        "])\n",
        "\n",
        "#optimizador encargado de ajustar pesos en la red neuronal de a 0.1 para que se ajuste\n",
        "#metrica de perdida para el seguimiento indica como va el seguimiento --> arregla grandes errores aunque sean pocos que corregir pequeños errores aunque sean muchos\n",
        "\n",
        "# Compila el modelo\n",
        "#model.compile(optimizer='sgd', loss='mean_squared_error')\n",
        "model.compile(\n",
        "    optimizer=tf.keras.optimizers.Adam(0.1),\n",
        "    loss='mean_squared_error'\n",
        ")\n",
        "print(\"La red se esta entrenando...\")\n",
        "# Entrenamiento del modelo, verbose falso para mejorar la visual\n",
        "entrenamiento=model.fit(X, y, epochs=100, verbose=False)\n",
        "print(\"Finalizo el entrenamiento\")\n",
        "\n",
        "#ver el comportamiento de la red\n",
        "plt.xlabel(\"epocas\")\n",
        "plt.ylabel(\"error\")\n",
        "plt.plot(entrenamiento.history[\"loss\"])\n",
        "plt.show()\n"
      ],
      "metadata": {
        "colab": {
          "base_uri": "https://localhost:8080/",
          "height": 484
        },
        "id": "2-Eh1_ANMfYd",
        "outputId": "34a3dfc1-ee3c-48f6-af00-1ac76a813863"
      },
      "execution_count": 46,
      "outputs": [
        {
          "output_type": "stream",
          "name": "stdout",
          "text": [
            "La red se esta entrenando...\n",
            "Finalizo el entrenamiento\n"
          ]
        },
        {
          "output_type": "display_data",
          "data": {
            "text/plain": [
              "<Figure size 640x480 with 1 Axes>"
            ],
            "image/png": "[encoded data removed]"
          },
          "metadata": {}
        }
      ]
    },
    {
      "cell_type": "code",
      "source": [
        "\n",
        "# Realiza una predicción\n",
        "#tomo un dato del 10% restante y sus caracteristicas\n",
        "fila=data10.sample(n=1, random_state=1)\n",
        "#fila['output'].values[0]\n",
        "#print(fila)\n",
        "\n",
        "#tomo solo sus caracteristicas como entrada\n",
        "nuevos_datos = fila.drop(columns=['output'])\n",
        "valor_pred = model.predict(nuevos_datos)\n",
        "\n",
        "salidaEsperada=fila['output'].values[0]\n",
        "\n",
        "print(\"Valor Red:\", valor_pred[0][0])\n",
        "print(\"Valor Real:\", salidaEsperada)\n"
      ],
      "metadata": {
        "colab": {
          "base_uri": "https://localhost:8080/"
        },
        "id": "p5VXR7qCeXQW",
        "outputId": "a28582d4-d885-4d4e-c848-77fcfad5d008"
      },
      "execution_count": 47,
      "outputs": [
        {
          "output_type": "stream",
          "name": "stderr",
          "text": [
            "WARNING:tensorflow:6 out of the last 8 calls to <function Model.make_predict_function.<locals>.predict_function at 0x79cf9ed3a830> triggered tf.function retracing. Tracing is expensive and the excessive number of tracings could be due to (1) creating @tf.function repeatedly in a loop, (2) passing tensors with different shapes, (3) passing Python objects instead of tensors. For (1), please define your @tf.function outside of the loop. For (2), @tf.function has reduce_retracing=True option that can avoid unnecessary retracing. For (3), please refer to https://www.tensorflow.org/guide/function#controlling_retracing and https://www.tensorflow.org/api_docs/python/tf/function for  more details.\n"
          ]
        },
        {
          "output_type": "stream",
          "name": "stdout",
          "text": [
            "1/1 [==============================] - 0s 54ms/step\n",
            "Valor Red: 0.35277855\n",
            "Valor Real: 0\n"
          ]
        }
      ]
    },
    {
      "cell_type": "code",
      "source": [
        " #Guardo la red por si depronto sirve y los pesos W\n",
        "model.save('redNeuronal.h5')\n",
        "model.save_weights('pesos.h5')"
      ],
      "metadata": {
        "id": "QO3qUd4zfHOa"
      },
      "execution_count": null,
      "outputs": []
    }
  ]
}